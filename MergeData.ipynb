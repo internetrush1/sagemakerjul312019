{
 "cells": [
  {
   "cell_type": "code",
   "execution_count": 5,
   "metadata": {},
   "outputs": [
    {
     "name": "stdout",
     "output_type": "stream",
     "text": [
      "download: s3://forecasting-do-not-delete/train/train.json to ./train.json\n",
      "download: s3://forecasting-do-not-delete/train/max_temp_train.json to ./max_temp_train.json\n"
     ]
    }
   ],
   "source": [
    "import pandas as pd\n",
    "import json\n",
    "import sagemaker\n",
    "import boto3\n",
    "\n",
    "!aws s3 cp \"s3://forecasting-do-not-delete/train/train.json\" ./train.json\n",
    "!aws s3 cp \"s3://forecasting-do-not-delete/train/max_temp_train.json\" ./max_temp_train.json"
   ]
  },
  {
   "cell_type": "code",
   "execution_count": 35,
   "metadata": {},
   "outputs": [],
   "source": [
    "train_set = []\n",
    "max_temp_set = []\n",
    "with open('train.json') as f:\n",
    "    for line in f:\n",
    "        train_set.append(json.loads(line))\n",
    "\n",
    "with open('max_temp_train.json') as f:\n",
    "    for line in f:\n",
    "        print(line)\n",
    "        max_temp_set.append(json.loads(line))\n",
    "        \n"
   ]
  },
  {
   "cell_type": "code",
   "execution_count": null,
   "metadata": {},
   "outputs": [],
   "source": [
    "print(trai)"
   ]
  }
 ],
 "metadata": {
  "kernelspec": {
   "display_name": "conda_python3",
   "language": "python",
   "name": "conda_python3"
  },
  "language_info": {
   "codemirror_mode": {
    "name": "ipython",
    "version": 3
   },
   "file_extension": ".py",
   "mimetype": "text/x-python",
   "name": "python",
   "nbconvert_exporter": "python",
   "pygments_lexer": "ipython3",
   "version": "3.6.5"
  }
 },
 "nbformat": 4,
 "nbformat_minor": 2
}
