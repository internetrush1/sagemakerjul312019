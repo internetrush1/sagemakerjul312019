{
 "cells": [
  {
   "cell_type": "markdown",
   "metadata": {},
   "source": [
    "# Finding Correlations"
   ]
  },
  {
   "cell_type": "markdown",
   "metadata": {},
   "source": [
    "So you picked the forecasting project. Good for you! Forecasting is an important skill, and it's helpful to learn about the techchnologies out there that can make your life easier. Or worse, depending on how you look at it. ;)"
   ]
  },
  {
   "cell_type": "markdown",
   "metadata": {},
   "source": [
    "### 1. Download the Kaggle forecasting data\n",
    "We are assuming Kaggle.json is present in the directory you just logged in, this requires login to the EC2 instance and VI out the kaggle.json into the base directory, if you have not done this the next step will fail"
   ]
  },
  {
   "cell_type": "code",
   "execution_count": 21,
   "metadata": {},
   "outputs": [
    {
     "name": "stdout",
     "output_type": "stream",
     "text": [
      "mkdir: cannot create directory ‘/home/ec2-user/.kaggle/’: File exists\n",
      "Collecting kaggle\n",
      "\u001b[?25l  Downloading https://files.pythonhosted.org/packages/e9/fc/0de659ea1f2096563204925b6660ae141f3d85bbe9e8a1571c3eb6cc1fdd/kaggle-1.5.5.tar.gz (56kB)\n",
      "\u001b[K    100% |████████████████████████████████| 61kB 23.7MB/s ta 0:00:01\n",
      "\u001b[?25hRequirement already satisfied: urllib3<1.25,>=1.21.1 in /home/ec2-user/anaconda3/envs/python3/lib/python3.6/site-packages (from kaggle) (1.23)\n",
      "Requirement already satisfied: six>=1.10 in /home/ec2-user/anaconda3/envs/python3/lib/python3.6/site-packages (from kaggle) (1.11.0)\n",
      "Requirement already satisfied: certifi in /home/ec2-user/anaconda3/envs/python3/lib/python3.6/site-packages (from kaggle) (2019.3.9)\n",
      "Requirement already satisfied: python-dateutil in /home/ec2-user/anaconda3/envs/python3/lib/python3.6/site-packages (from kaggle) (2.7.3)\n",
      "Requirement already satisfied: requests in /home/ec2-user/anaconda3/envs/python3/lib/python3.6/site-packages (from kaggle) (2.20.0)\n",
      "Collecting tqdm (from kaggle)\n",
      "\u001b[?25l  Downloading https://files.pythonhosted.org/packages/9f/3d/7a6b68b631d2ab54975f3a4863f3c4e9b26445353264ef01f465dc9b0208/tqdm-4.32.2-py2.py3-none-any.whl (50kB)\n",
      "\u001b[K    100% |████████████████████████████████| 51kB 23.8MB/s ta 0:00:01\n",
      "\u001b[?25hCollecting python-slugify (from kaggle)\n",
      "  Downloading https://files.pythonhosted.org/packages/a2/5d/bd30413c00bbed3945558aca07c55944073e1e30abeee1f06515281f9811/python-slugify-3.0.3.tar.gz\n",
      "Requirement already satisfied: chardet<3.1.0,>=3.0.2 in /home/ec2-user/anaconda3/envs/python3/lib/python3.6/site-packages (from requests->kaggle) (3.0.4)\n",
      "Requirement already satisfied: idna<2.8,>=2.5 in /home/ec2-user/anaconda3/envs/python3/lib/python3.6/site-packages (from requests->kaggle) (2.6)\n",
      "Collecting text-unidecode==1.2 (from python-slugify->kaggle)\n",
      "\u001b[?25l  Downloading https://files.pythonhosted.org/packages/79/42/d717cc2b4520fb09e45b344b1b0b4e81aa672001dd128c180fabc655c341/text_unidecode-1.2-py2.py3-none-any.whl (77kB)\n",
      "\u001b[K    100% |████████████████████████████████| 81kB 25.5MB/s ta 0:00:01\n",
      "\u001b[?25hBuilding wheels for collected packages: kaggle, python-slugify\n",
      "  Running setup.py bdist_wheel for kaggle ... \u001b[?25ldone\n",
      "\u001b[?25h  Stored in directory: /home/ec2-user/.cache/pip/wheels/db/6a/80/6cd1892eb9b9b136333db3c74e16cba4e17e2c700f51541f06\n",
      "  Running setup.py bdist_wheel for python-slugify ... \u001b[?25ldone\n",
      "\u001b[?25h  Stored in directory: /home/ec2-user/.cache/pip/wheels/0f/96/ca/85f5b01165975402d1e37f8dd346df00dc39be1d0761bd17bb\n",
      "Successfully built kaggle python-slugify\n",
      "Installing collected packages: tqdm, text-unidecode, python-slugify, kaggle\n",
      "Successfully installed kaggle-1.5.5 python-slugify-3.0.3 text-unidecode-1.2 tqdm-4.32.2\n",
      "\u001b[33mYou are using pip version 10.0.1, however version 19.2.1 is available.\n",
      "You should consider upgrading via the 'pip install --upgrade pip' command.\u001b[0m\n",
      "/home/ec2-user/.kaggle/kaggle.json\n",
      "train.csv: Skipping, found more recently modified local copy (use --force to force download)\n",
      "Downloading gefs_train.tar.gz to /home/ec2-user/SageMaker/sagemakerjul312019\n",
      "100%|██████████████████████████████████████▊| 1.06G/1.07G [00:12<00:00, 107MB/s]\n",
      "100%|██████████████████████████████████████| 1.07G/1.07G [00:12<00:00, 93.3MB/s]\n",
      "Downloading gefs_test.tar.gz to /home/ec2-user/SageMaker/sagemakerjul312019\n",
      "100%|███████████████████████████████████████▊| 357M/358M [00:05<00:00, 89.2MB/s]\n",
      "100%|████████████████████████████████████████| 358M/358M [00:05<00:00, 69.9MB/s]\n",
      "Downloading gefs_train.zip to /home/ec2-user/SageMaker/sagemakerjul312019\n",
      "100%|█████████████████████████████████████▉| 1.07G/1.07G [00:16<00:00, 63.6MB/s]\n",
      "100%|██████████████████████████████████████| 1.07G/1.07G [00:16<00:00, 68.7MB/s]\n",
      "Downloading gefs_test.zip to /home/ec2-user/SageMaker/sagemakerjul312019\n",
      "100%|███████████████████████████████████████▊| 357M/358M [00:07<00:00, 71.5MB/s]\n",
      "100%|████████████████████████████████████████| 358M/358M [00:07<00:00, 51.5MB/s]\n",
      "Downloading station_info.csv to /home/ec2-user/SageMaker/sagemakerjul312019\n",
      "100%|██████████████████████████████████████| 2.90k/2.90k [00:00<00:00, 14.0kB/s]\n",
      "\n",
      "Downloading sampleSubmission.csv to /home/ec2-user/SageMaker/sagemakerjul312019\n",
      "  0%|                                                | 0.00/704k [00:00<?, ?B/s]\n",
      "100%|█████████████████████████████████████████| 704k/704k [00:00<00:00, 130MB/s]\n",
      "Downloading gefs_elevations.nc to /home/ec2-user/SageMaker/sagemakerjul312019\n",
      "  0%|                                               | 0.00/8.87k [00:00<?, ?B/s]\n",
      "100%|██████████████████████████████████████| 8.87k/8.87k [00:00<00:00, 17.9MB/s]\n"
     ]
    }
   ],
   "source": [
    "!mkdir ~/.kaggle/\n",
    "!pip install kaggle\n",
    "!cp ~/kaggle.json /home/ec2-user/.kaggle/kaggle.json\n",
    "!chmod 600 /home/ec2-user/.kaggle/kaggle.json\n",
    "!ls /home/ec2-user/.kaggle/kaggle.json\n",
    "!kaggle competitions download -c ams-2014-solar-energy-prediction-contest"
   ]
  },
  {
   "cell_type": "markdown",
   "metadata": {},
   "source": [
    "### 2. Finding Missing Data"
   ]
  },
  {
   "cell_type": "code",
   "execution_count": 39,
   "metadata": {},
   "outputs": [],
   "source": [
    "import pandas as pd\n",
    "import json\n",
    "import sagemaker\n",
    "import boto3\n",
    "import numpy as np"
   ]
  },
  {
   "cell_type": "code",
   "execution_count": 27,
   "metadata": {},
   "outputs": [],
   "source": [
    "df = pd.read_csv('train.csv')"
   ]
  },
  {
   "cell_type": "code",
   "execution_count": 141,
   "metadata": {},
   "outputs": [
    {
     "data": {
      "text/plain": [
       "False"
      ]
     },
     "execution_count": 141,
     "metadata": {},
     "output_type": "execute_result"
    }
   ],
   "source": [
    "# df.shape\n",
    "df.isnull().values.any()\n",
    "# dates = pd.date_range('19940101', periods=4)\n",
    "# df1 = df.reindex(index=dates[0:4], columns=list(df.columns) + ['E'])\n",
    "# df1.loc[dates[0]:dates[1], 'E'] = 1\n",
    "#df1"
   ]
  },
  {
   "cell_type": "code",
   "execution_count": 25,
   "metadata": {},
   "outputs": [
    {
     "data": {
      "text/html": [
       "<div>\n",
       "<style scoped>\n",
       "    .dataframe tbody tr th:only-of-type {\n",
       "        vertical-align: middle;\n",
       "    }\n",
       "\n",
       "    .dataframe tbody tr th {\n",
       "        vertical-align: top;\n",
       "    }\n",
       "\n",
       "    .dataframe thead th {\n",
       "        text-align: right;\n",
       "    }\n",
       "</style>\n",
       "<table border=\"1\" class=\"dataframe\">\n",
       "  <thead>\n",
       "    <tr style=\"text-align: right;\">\n",
       "      <th></th>\n",
       "      <th>Date</th>\n",
       "      <th>ACME</th>\n",
       "      <th>ADAX</th>\n",
       "      <th>ALTU</th>\n",
       "      <th>APAC</th>\n",
       "      <th>ARNE</th>\n",
       "      <th>BEAV</th>\n",
       "      <th>BESS</th>\n",
       "      <th>BIXB</th>\n",
       "      <th>BLAC</th>\n",
       "      <th>...</th>\n",
       "      <th>VINI</th>\n",
       "      <th>WASH</th>\n",
       "      <th>WATO</th>\n",
       "      <th>WAUR</th>\n",
       "      <th>WEAT</th>\n",
       "      <th>WEST</th>\n",
       "      <th>WILB</th>\n",
       "      <th>WIST</th>\n",
       "      <th>WOOD</th>\n",
       "      <th>WYNO</th>\n",
       "    </tr>\n",
       "  </thead>\n",
       "  <tbody>\n",
       "    <tr>\n",
       "      <th>0</th>\n",
       "      <td>19940101</td>\n",
       "      <td>12384900</td>\n",
       "      <td>11930700</td>\n",
       "      <td>12116700</td>\n",
       "      <td>12301200</td>\n",
       "      <td>10706100</td>\n",
       "      <td>10116900</td>\n",
       "      <td>11487900</td>\n",
       "      <td>11182800</td>\n",
       "      <td>10848300</td>\n",
       "      <td>...</td>\n",
       "      <td>10771800</td>\n",
       "      <td>12116400</td>\n",
       "      <td>11308800</td>\n",
       "      <td>12361800</td>\n",
       "      <td>11331600</td>\n",
       "      <td>10644300</td>\n",
       "      <td>11715600</td>\n",
       "      <td>11241000</td>\n",
       "      <td>10490100</td>\n",
       "      <td>10545300</td>\n",
       "    </tr>\n",
       "    <tr>\n",
       "      <th>1</th>\n",
       "      <td>19940102</td>\n",
       "      <td>11908500</td>\n",
       "      <td>9778500</td>\n",
       "      <td>10862700</td>\n",
       "      <td>11666400</td>\n",
       "      <td>8062500</td>\n",
       "      <td>9262800</td>\n",
       "      <td>9235200</td>\n",
       "      <td>3963300</td>\n",
       "      <td>3318300</td>\n",
       "      <td>...</td>\n",
       "      <td>4314300</td>\n",
       "      <td>10733400</td>\n",
       "      <td>9154800</td>\n",
       "      <td>12041400</td>\n",
       "      <td>9168300</td>\n",
       "      <td>4082700</td>\n",
       "      <td>9228000</td>\n",
       "      <td>5829900</td>\n",
       "      <td>7412100</td>\n",
       "      <td>3345300</td>\n",
       "    </tr>\n",
       "    <tr>\n",
       "      <th>2</th>\n",
       "      <td>19940103</td>\n",
       "      <td>12470700</td>\n",
       "      <td>9771900</td>\n",
       "      <td>12627300</td>\n",
       "      <td>12782700</td>\n",
       "      <td>11618400</td>\n",
       "      <td>10789800</td>\n",
       "      <td>11895900</td>\n",
       "      <td>4512600</td>\n",
       "      <td>5266500</td>\n",
       "      <td>...</td>\n",
       "      <td>2976900</td>\n",
       "      <td>11775000</td>\n",
       "      <td>10700400</td>\n",
       "      <td>12687300</td>\n",
       "      <td>11324400</td>\n",
       "      <td>2746500</td>\n",
       "      <td>3686700</td>\n",
       "      <td>4488900</td>\n",
       "      <td>9712200</td>\n",
       "      <td>4442100</td>\n",
       "    </tr>\n",
       "    <tr>\n",
       "      <th>3</th>\n",
       "      <td>19940104</td>\n",
       "      <td>12725400</td>\n",
       "      <td>6466800</td>\n",
       "      <td>13065300</td>\n",
       "      <td>12817500</td>\n",
       "      <td>12134400</td>\n",
       "      <td>11816700</td>\n",
       "      <td>12186600</td>\n",
       "      <td>3212700</td>\n",
       "      <td>8270100</td>\n",
       "      <td>...</td>\n",
       "      <td>3476400</td>\n",
       "      <td>12159600</td>\n",
       "      <td>11907000</td>\n",
       "      <td>12953100</td>\n",
       "      <td>11903700</td>\n",
       "      <td>2741400</td>\n",
       "      <td>4905000</td>\n",
       "      <td>4089300</td>\n",
       "      <td>11401500</td>\n",
       "      <td>4365000</td>\n",
       "    </tr>\n",
       "    <tr>\n",
       "      <th>4</th>\n",
       "      <td>19940105</td>\n",
       "      <td>10894800</td>\n",
       "      <td>11545200</td>\n",
       "      <td>8060400</td>\n",
       "      <td>10379400</td>\n",
       "      <td>6918600</td>\n",
       "      <td>9936300</td>\n",
       "      <td>6411300</td>\n",
       "      <td>9566100</td>\n",
       "      <td>8009400</td>\n",
       "      <td>...</td>\n",
       "      <td>6393300</td>\n",
       "      <td>11419500</td>\n",
       "      <td>7334400</td>\n",
       "      <td>10178700</td>\n",
       "      <td>7471500</td>\n",
       "      <td>8235300</td>\n",
       "      <td>11159100</td>\n",
       "      <td>10651500</td>\n",
       "      <td>10006200</td>\n",
       "      <td>8568300</td>\n",
       "    </tr>\n",
       "  </tbody>\n",
       "</table>\n",
       "<p>5 rows × 99 columns</p>\n",
       "</div>"
      ],
      "text/plain": [
       "       Date      ACME      ADAX      ALTU      APAC      ARNE      BEAV  \\\n",
       "0  19940101  12384900  11930700  12116700  12301200  10706100  10116900   \n",
       "1  19940102  11908500   9778500  10862700  11666400   8062500   9262800   \n",
       "2  19940103  12470700   9771900  12627300  12782700  11618400  10789800   \n",
       "3  19940104  12725400   6466800  13065300  12817500  12134400  11816700   \n",
       "4  19940105  10894800  11545200   8060400  10379400   6918600   9936300   \n",
       "\n",
       "       BESS      BIXB      BLAC  ...      VINI      WASH      WATO      WAUR  \\\n",
       "0  11487900  11182800  10848300  ...  10771800  12116400  11308800  12361800   \n",
       "1   9235200   3963300   3318300  ...   4314300  10733400   9154800  12041400   \n",
       "2  11895900   4512600   5266500  ...   2976900  11775000  10700400  12687300   \n",
       "3  12186600   3212700   8270100  ...   3476400  12159600  11907000  12953100   \n",
       "4   6411300   9566100   8009400  ...   6393300  11419500   7334400  10178700   \n",
       "\n",
       "       WEAT      WEST      WILB      WIST      WOOD      WYNO  \n",
       "0  11331600  10644300  11715600  11241000  10490100  10545300  \n",
       "1   9168300   4082700   9228000   5829900   7412100   3345300  \n",
       "2  11324400   2746500   3686700   4488900   9712200   4442100  \n",
       "3  11903700   2741400   4905000   4089300  11401500   4365000  \n",
       "4   7471500   8235300  11159100  10651500  10006200   8568300  \n",
       "\n",
       "[5 rows x 99 columns]"
      ]
     },
     "execution_count": 25,
     "metadata": {},
     "output_type": "execute_result"
    }
   ],
   "source": [
    "df.head()"
   ]
  },
  {
   "cell_type": "markdown",
   "metadata": {},
   "source": [
    "Each row here is a new point in time, and each column is an energy station. That means that each COLUMN is a unique time series data set. We are going to train our first model on a single column. Then, you can extend it by adding more columns."
   ]
  },
  {
   "cell_type": "code",
   "execution_count": 27,
   "metadata": {},
   "outputs": [],
   "source": [
    "target = df['ACME']"
   ]
  },
  {
   "cell_type": "code",
   "execution_count": 28,
   "metadata": {},
   "outputs": [
    {
     "data": {
      "text/plain": [
       "(5113,)"
      ]
     },
     "execution_count": 28,
     "metadata": {},
     "output_type": "execute_result"
    }
   ],
   "source": [
    "target.shape"
   ]
  },
  {
   "cell_type": "markdown",
   "metadata": {},
   "source": [
    "Great! We have 5113 obervations. That's well over the 300-limit on DeepAR."
   ]
  },
  {
   "cell_type": "markdown",
   "metadata": {},
   "source": [
    "### 3. Histgramming\n",
    "Lets build some histrograms because some of these may be pretty similar."
   ]
  },
  {
   "cell_type": "code",
   "execution_count": 96,
   "metadata": {},
   "outputs": [
    {
     "data": {
      "text/plain": [
       "<matplotlib.axes._subplots.AxesSubplot at 0x7f69dd12b940>"
      ]
     },
     "execution_count": 96,
     "metadata": {},
     "output_type": "execute_result"
    },
    {
     "data": {
      "image/png": "[encoded data removed]",
      "text/plain": [
       "<Figure size 432x288 with 1 Axes>"
      ]
     },
     "metadata": {},
     "output_type": "display_data"
    }
   ],
   "source": [
    "df.NINN.hist()\n",
    "df.APAC.hist()"
   ]
  },
  {
   "cell_type": "markdown",
   "metadata": {},
   "source": [
    "### Lets Map a bunch and see what happens."
   ]
  },
  {
   "cell_type": "code",
   "execution_count": 109,
   "metadata": {},
   "outputs": [
    {
     "data": {
      "text/plain": [
       "<matplotlib.axes._subplots.AxesSubplot at 0x7f69ccc38518>"
      ]
     },
     "execution_count": 109,
     "metadata": {},
     "output_type": "execute_result"
    },
    {
     "data": {
      "image/png": "[encoded data removed]",
      "text/plain": [
       "<Figure size 432x288 with 1 Axes>"
      ]
     },
     "metadata": {},
     "output_type": "display_data"
    }
   ],
   "source": [
    "df.NINN.hist(bins=50)\n",
    "df.PERK.hist(bins=50)\n",
    "df.STIL.hist(bins=50)\n",
    "df.STUA.hist(bins=50)"
   ]
  },
  {
   "cell_type": "markdown",
   "metadata": {},
   "source": [
    "### 4. Finding Correlation\n",
    "Lets see if some of these are correlated. Cheating: https://chrisalbon.com/machine_learning/feature_selection/drop_highly_correlated_features/"
   ]
  },
  {
   "cell_type": "code",
   "execution_count": 94,
   "metadata": {},
   "outputs": [
    {
     "data": {
      "text/plain": [
       "['NINN', 'PERK', 'STIL', 'STUA']"
      ]
     },
     "execution_count": 94,
     "metadata": {},
     "output_type": "execute_result"
    }
   ],
   "source": [
    "# Create correlation matrix\n",
    "corr_matrix = df.corr(method='kendall')\n",
    "#corr_matrix = df.corr(method='kendall')\n",
    "\n",
    "# Select upper triangle of correlation matrix\n",
    "upper = corr_matrix.where(np.triu(np.ones(corr_matrix.shape), k=1).astype(np.bool))\n",
    "\n",
    "# Find index of feature columns with correlation greater than 0.90\n",
    "to_drop = [column for column in upper.columns if any(upper[column] > 0.90)]\n",
    "to_drop"
   ]
  },
  {
   "cell_type": "code",
   "execution_count": 131,
   "metadata": {},
   "outputs": [
    {
     "name": "stdout",
     "output_type": "stream",
     "text": [
      "Starting with \n",
      "98\n",
      "Dropping ['NINN', 'PERK', 'STIL', 'STUA']\n"
     ]
    },
    {
     "data": {
      "text/plain": [
       "94"
      ]
     },
     "execution_count": 131,
     "metadata": {},
     "output_type": "execute_result"
    }
   ],
   "source": [
    "df1 = df\n",
    "print(\"Starting with \\n{}\".format(len(df1.columns[1:])))\n",
    "print(\"Dropping {}\".format(to_drop) )\n",
    "df2 = df1.drop(df1[to_drop], axis=1)\n",
    "len(df2.columns[1:])"
   ]
  },
  {
   "cell_type": "markdown",
   "metadata": {},
   "source": [
    "### 5. TODO:  Lets write out the file \n",
    "This will help us load SageMaker. "
   ]
  },
  {
   "cell_type": "code",
   "execution_count": null,
   "metadata": {},
   "outputs": [],
   "source": [
    "# def write_dicts_to_file(path, data):\n",
    "#     with open(path, 'wb') as fp:\n",
    "#         for d in data:\n",
    "#             fp.write(json.dumps(d).encode(\"utf-8\"))\n",
    "# #             fp.write(\"\\n\".encode('utf-8'))"
   ]
  },
  {
   "cell_type": "code",
   "execution_count": 32,
   "metadata": {},
   "outputs": [],
   "source": [
    "write_dicts_to_file('train.json', train_set)\n",
    "write_dicts_to_file('test.json', test_set)"
   ]
  },
  {
   "cell_type": "code",
   "execution_count": null,
   "metadata": {},
   "outputs": [],
   "source": []
  },
  {
   "cell_type": "code",
   "execution_count": 33,
   "metadata": {},
   "outputs": [
    {
     "name": "stdout",
     "output_type": "stream",
     "text": [
      "upload: ./train.json to s3://forecasting-do-not-delete/train/train.json\n",
      "upload: ./test.json to s3://forecasting-do-not-delete/test/test.json\n"
     ]
    }
   ],
   "source": [
    "!aws s3 cp train.json s3://forecasting-do-not-delete/train/train.json\n",
    "!aws s3 cp test.json s3://forecasting-do-not-delete/test/test.json"
   ]
  },
  {
   "cell_type": "markdown",
   "metadata": {},
   "source": [
    "### 4. Run a SageMaker Training Job\n",
    "Ok! If everything worked, we should be able to train a model in SageMaker straight away."
   ]
  },
  {
   "cell_type": "code",
   "execution_count": 34,
   "metadata": {},
   "outputs": [],
   "source": [
    "sess = sagemaker.Session()\n",
    "region = sess.boto_region_name\n",
    "image = sagemaker.amazon.amazon_estimator.get_image_uri(region, \"forecasting-deepar\", \"latest\")\n",
    "role = sagemaker.get_execution_role()   "
   ]
  },
  {
   "cell_type": "code",
   "execution_count": 35,
   "metadata": {},
   "outputs": [],
   "source": [
    "estimator = sagemaker.estimator.Estimator(\n",
    "    sagemaker_session=sess,\n",
    "    image_name=image,\n",
    "    role=role,\n",
    "    train_instance_count=1,\n",
    "    train_instance_type='ml.c4.2xlarge',\n",
    "    base_job_name='deepar-electricity-demo',\n",
    "    output_path='s3://forecasting-do-not-delete/output'\n",
    ")"
   ]
  },
  {
   "cell_type": "code",
   "execution_count": 36,
   "metadata": {},
   "outputs": [],
   "source": [
    "hyperparameters = {\n",
    "    \n",
    "    # frequency interval is once per day\n",
    "    \"time_freq\": 'D',\n",
    "    \"epochs\": \"400\",\n",
    "    \"early_stopping_patience\": \"40\",\n",
    "    \"mini_batch_size\": \"64\",\n",
    "    \"learning_rate\": \"5E-4\",\n",
    "    \n",
    "    # let's use the last 30 days for context\n",
    "    \"context_length\": str(30),\n",
    "    \n",
    "    # let's forecast for 30 days\n",
    "    \"prediction_length\": str(30)\n",
    "}\n",
    "\n",
    "estimator.set_hyperparameters(**hyperparameters)"
   ]
  },
  {
   "cell_type": "code",
   "execution_count": null,
   "metadata": {},
   "outputs": [
    {
     "name": "stdout",
     "output_type": "stream",
     "text": [
      "2019-08-01 16:17:22 Starting - Starting the training job...\n",
      "2019-08-01 16:17:27 Starting - Launching requested ML instances......\n",
      "2019-08-01 16:18:30 Starting - Preparing the instances for training......\n",
      "2019-08-01 16:19:52 Downloading - Downloading input data\n",
      "2019-08-01 16:19:52 Training - Downloading the training image..."
     ]
    }
   ],
   "source": [
    "data_channels = {\n",
    "    \"train\": \"s3://forecasting-do-not-delete/train/train.json\",\n",
    "    \"test\": \"s3://forecasting-do-not-delete/test/test.json\"\n",
    "}\n",
    "\n",
    "estimator.fit(inputs=data_channels, wait=True)"
   ]
  },
  {
   "cell_type": "markdown",
   "metadata": {},
   "source": [
    "### 5. Run Inference\n",
    "If you made it this far, congratulations! None of this is easy. For your next steps, please open up the example notebook under the SageMakerExamples:\n",
    "- SageMakerExamples/Introduction To Amazon Algorithms/DeepAR-Electricity.\n",
    "\n",
    "That will walk you through both how to add more timeseries to your model, and how to get inference results out of it."
   ]
  },
  {
   "cell_type": "markdown",
   "metadata": {},
   "source": [
    "### 6. Extend Your Solution\n",
    "Now you're getting forecasts, how will you extend your solution? How good are your forecasts? What about getting forecasts for the other stations? Is your model cognizant of the weather?\n",
    "\n",
    "Spend your remaining time growing your modeling solution to leverage additional datasets. Then, think through how you'd set this up to run in production."
   ]
  },
  {
   "cell_type": "code",
   "execution_count": null,
   "metadata": {},
   "outputs": [],
   "source": []
  }
 ],
 "metadata": {
  "kernelspec": {
   "display_name": "conda_python3",
   "language": "python",
   "name": "conda_python3"
  },
  "language_info": {
   "codemirror_mode": {
    "name": "ipython",
    "version": 3
   },
   "file_extension": ".py",
   "mimetype": "text/x-python",
   "name": "python",
   "nbconvert_exporter": "python",
   "pygments_lexer": "ipython3",
   "version": "3.6.5"
  }
 },
 "nbformat": 4,
 "nbformat_minor": 2
}
